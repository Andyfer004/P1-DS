{
  "cells": [
    {
      "cell_type": "markdown",
      "metadata": {
        "id": "view-in-github",
        "colab_type": "text"
      },
      "source": [
        "<a href=\"https://colab.research.google.com/github/Andyfer004/P1-DS/blob/main/P1_DS.ipynb\" target=\"_parent\"><img src=\"https://colab.research.google.com/assets/colab-badge.svg\" alt=\"Open In Colab\"/></a>"
      ]
    },
    {
      "cell_type": "markdown",
      "id": "73e51d84",
      "metadata": {
        "id": "73e51d84"
      },
      "source": [
        "# Avances del Proyecto 1\n",
        "\n",
        "### Integrantes:\n",
        "- Gabriel Alberto Paz González 221087\n"
      ]
    },
    {
      "cell_type": "code",
      "execution_count": null,
      "id": "69bdc19a",
      "metadata": {
        "id": "69bdc19a",
        "outputId": "c0a02cfe-b412-491a-bf50-e08d1f9523a3"
      },
      "outputs": [
        {
          "name": "stdout",
          "output_type": "stream",
          "text": [
            "Filas: 6607\n",
            "Variables: 17\n"
          ]
        },
        {
          "data": {
            "text/html": [
              "<div>\n",
              "<style scoped>\n",
              "    .dataframe tbody tr th:only-of-type {\n",
              "        vertical-align: middle;\n",
              "    }\n",
              "\n",
              "    .dataframe tbody tr th {\n",
              "        vertical-align: top;\n",
              "    }\n",
              "\n",
              "    .dataframe thead th {\n",
              "        text-align: right;\n",
              "    }\n",
              "</style>\n",
              "<table border=\"1\" class=\"dataframe\">\n",
              "  <thead>\n",
              "    <tr style=\"text-align: right;\">\n",
              "      <th></th>\n",
              "      <th>CODIGO</th>\n",
              "      <th>DISTRITO</th>\n",
              "      <th>DEPARTAMENTO</th>\n",
              "      <th>MUNICIPIO</th>\n",
              "      <th>ESTABLECIMIENTO</th>\n",
              "      <th>DIRECCION</th>\n",
              "      <th>TELEFONO</th>\n",
              "      <th>SUPERVISOR</th>\n",
              "      <th>DIRECTOR</th>\n",
              "      <th>NIVEL</th>\n",
              "      <th>SECTOR</th>\n",
              "      <th>AREA</th>\n",
              "      <th>STATUS</th>\n",
              "      <th>MODALIDAD</th>\n",
              "      <th>JORNADA</th>\n",
              "      <th>PLAN</th>\n",
              "      <th>DEPARTAMENTAL</th>\n",
              "    </tr>\n",
              "  </thead>\n",
              "  <tbody>\n",
              "    <tr>\n",
              "      <th>0</th>\n",
              "      <td>16-01-0138-46</td>\n",
              "      <td>16-031</td>\n",
              "      <td>ALTA VERAPAZ</td>\n",
              "      <td>COBAN</td>\n",
              "      <td>COLEGIO COBAN</td>\n",
              "      <td>KM.2 SALIDA A SAN JUAN CHAMELCO ZONA 8</td>\n",
              "      <td>77945104</td>\n",
              "      <td>PATRICIO NAJARRO ASENCIO</td>\n",
              "      <td>GUSTAVO ADOLFO SIERRA POP</td>\n",
              "      <td>DIVERSIFICADO</td>\n",
              "      <td>PRIVADO</td>\n",
              "      <td>URBANA</td>\n",
              "      <td>ABIERTA</td>\n",
              "      <td>MONOLINGUE</td>\n",
              "      <td>MATUTINA</td>\n",
              "      <td>DIARIO(REGULAR)</td>\n",
              "      <td>ALTA VERAPAZ</td>\n",
              "    </tr>\n",
              "    <tr>\n",
              "      <th>1</th>\n",
              "      <td>16-01-0139-46</td>\n",
              "      <td>16-031</td>\n",
              "      <td>ALTA VERAPAZ</td>\n",
              "      <td>COBAN</td>\n",
              "      <td>COLEGIO PARTICULAR MIXTO VERAPAZ</td>\n",
              "      <td>KM 209.5 ENTRADA A LA CIUDAD</td>\n",
              "      <td>77367402</td>\n",
              "      <td>PATRICIO NAJARRO ASENCIO</td>\n",
              "      <td>GILMA DOLORES GUAY PAZ DE LEAL</td>\n",
              "      <td>DIVERSIFICADO</td>\n",
              "      <td>PRIVADO</td>\n",
              "      <td>URBANA</td>\n",
              "      <td>ABIERTA</td>\n",
              "      <td>MONOLINGUE</td>\n",
              "      <td>MATUTINA</td>\n",
              "      <td>DIARIO(REGULAR)</td>\n",
              "      <td>ALTA VERAPAZ</td>\n",
              "    </tr>\n",
              "    <tr>\n",
              "      <th>2</th>\n",
              "      <td>16-01-0140-46</td>\n",
              "      <td>16-031</td>\n",
              "      <td>ALTA VERAPAZ</td>\n",
              "      <td>COBAN</td>\n",
              "      <td>COLEGIO \"LA INMACULADA\"</td>\n",
              "      <td>7A. AVENIDA 11-109 ZONA 6</td>\n",
              "      <td>78232301</td>\n",
              "      <td>PATRICIO NAJARRO ASENCIO</td>\n",
              "      <td>VIRGINIA SOLANO SERRANO</td>\n",
              "      <td>DIVERSIFICADO</td>\n",
              "      <td>PRIVADO</td>\n",
              "      <td>URBANA</td>\n",
              "      <td>ABIERTA</td>\n",
              "      <td>MONOLINGUE</td>\n",
              "      <td>MATUTINA</td>\n",
              "      <td>DIARIO(REGULAR)</td>\n",
              "      <td>ALTA VERAPAZ</td>\n",
              "    </tr>\n",
              "    <tr>\n",
              "      <th>3</th>\n",
              "      <td>16-01-0141-46</td>\n",
              "      <td>16-005</td>\n",
              "      <td>ALTA VERAPAZ</td>\n",
              "      <td>COBAN</td>\n",
              "      <td>ESCUELA NACIONAL DE CIENCIAS COMERCIALES</td>\n",
              "      <td>2A CALLE 11-10 ZONA 2</td>\n",
              "      <td>79514215</td>\n",
              "      <td>NORA LILIANA FIGUEROA HERNÁNDEZ</td>\n",
              "      <td>HÉCTOR ROLANDO CHUN POOU</td>\n",
              "      <td>DIVERSIFICADO</td>\n",
              "      <td>OFICIAL</td>\n",
              "      <td>URBANA</td>\n",
              "      <td>ABIERTA</td>\n",
              "      <td>MONOLINGUE</td>\n",
              "      <td>MATUTINA</td>\n",
              "      <td>DIARIO(REGULAR)</td>\n",
              "      <td>ALTA VERAPAZ</td>\n",
              "    </tr>\n",
              "    <tr>\n",
              "      <th>4</th>\n",
              "      <td>16-01-0142-46</td>\n",
              "      <td>16-005</td>\n",
              "      <td>ALTA VERAPAZ</td>\n",
              "      <td>COBAN</td>\n",
              "      <td>INSTITUTO NORMAL MIXTO DEL NORTE 'EMILIO ROSAL...</td>\n",
              "      <td>3A AVE 6-23 ZONA 11</td>\n",
              "      <td>79521468</td>\n",
              "      <td>NORA LILIANA FIGUEROA HERNÁNDEZ</td>\n",
              "      <td>VICTOR HUGO DOMÍNGUEZ REYES</td>\n",
              "      <td>DIVERSIFICADO</td>\n",
              "      <td>OFICIAL</td>\n",
              "      <td>URBANA</td>\n",
              "      <td>ABIERTA</td>\n",
              "      <td>BILINGUE</td>\n",
              "      <td>VESPERTINA</td>\n",
              "      <td>DIARIO(REGULAR)</td>\n",
              "      <td>ALTA VERAPAZ</td>\n",
              "    </tr>\n",
              "  </tbody>\n",
              "</table>\n",
              "</div>"
            ],
            "text/plain": [
              "          CODIGO DISTRITO  DEPARTAMENTO MUNICIPIO  \\\n",
              "0  16-01-0138-46   16-031  ALTA VERAPAZ     COBAN   \n",
              "1  16-01-0139-46   16-031  ALTA VERAPAZ     COBAN   \n",
              "2  16-01-0140-46   16-031  ALTA VERAPAZ     COBAN   \n",
              "3  16-01-0141-46   16-005  ALTA VERAPAZ     COBAN   \n",
              "4  16-01-0142-46   16-005  ALTA VERAPAZ     COBAN   \n",
              "\n",
              "                                     ESTABLECIMIENTO  \\\n",
              "0                                      COLEGIO COBAN   \n",
              "1                   COLEGIO PARTICULAR MIXTO VERAPAZ   \n",
              "2                            COLEGIO \"LA INMACULADA\"   \n",
              "3           ESCUELA NACIONAL DE CIENCIAS COMERCIALES   \n",
              "4  INSTITUTO NORMAL MIXTO DEL NORTE 'EMILIO ROSAL...   \n",
              "\n",
              "                                DIRECCION  TELEFONO  \\\n",
              "0  KM.2 SALIDA A SAN JUAN CHAMELCO ZONA 8  77945104   \n",
              "1            KM 209.5 ENTRADA A LA CIUDAD  77367402   \n",
              "2               7A. AVENIDA 11-109 ZONA 6  78232301   \n",
              "3                   2A CALLE 11-10 ZONA 2  79514215   \n",
              "4                     3A AVE 6-23 ZONA 11  79521468   \n",
              "\n",
              "                        SUPERVISOR                        DIRECTOR  \\\n",
              "0         PATRICIO NAJARRO ASENCIO       GUSTAVO ADOLFO SIERRA POP   \n",
              "1         PATRICIO NAJARRO ASENCIO  GILMA DOLORES GUAY PAZ DE LEAL   \n",
              "2         PATRICIO NAJARRO ASENCIO         VIRGINIA SOLANO SERRANO   \n",
              "3  NORA LILIANA FIGUEROA HERNÁNDEZ        HÉCTOR ROLANDO CHUN POOU   \n",
              "4  NORA LILIANA FIGUEROA HERNÁNDEZ     VICTOR HUGO DOMÍNGUEZ REYES   \n",
              "\n",
              "           NIVEL   SECTOR    AREA   STATUS   MODALIDAD     JORNADA  \\\n",
              "0  DIVERSIFICADO  PRIVADO  URBANA  ABIERTA  MONOLINGUE    MATUTINA   \n",
              "1  DIVERSIFICADO  PRIVADO  URBANA  ABIERTA  MONOLINGUE    MATUTINA   \n",
              "2  DIVERSIFICADO  PRIVADO  URBANA  ABIERTA  MONOLINGUE    MATUTINA   \n",
              "3  DIVERSIFICADO  OFICIAL  URBANA  ABIERTA  MONOLINGUE    MATUTINA   \n",
              "4  DIVERSIFICADO  OFICIAL  URBANA  ABIERTA    BILINGUE  VESPERTINA   \n",
              "\n",
              "              PLAN DEPARTAMENTAL  \n",
              "0  DIARIO(REGULAR)  ALTA VERAPAZ  \n",
              "1  DIARIO(REGULAR)  ALTA VERAPAZ  \n",
              "2  DIARIO(REGULAR)  ALTA VERAPAZ  \n",
              "3  DIARIO(REGULAR)  ALTA VERAPAZ  \n",
              "4  DIARIO(REGULAR)  ALTA VERAPAZ  "
            ]
          },
          "metadata": {},
          "output_type": "display_data"
        }
      ],
      "source": [
        "# Cargar librerías y datos crudos\n",
        "import pandas as pd\n",
        "\n",
        "df = pd.read_csv('dataset_institutions.csv')\n",
        "\n",
        "# Descripción del conjunto de datos crudos\n",
        "filas, vars_ = df.shape\n",
        "print(f\"Filas: {filas}\")\n",
        "print(f\"Variables: {vars_}\")\n",
        "\n",
        "# Vista previa\n",
        "display(df.head(5))"
      ]
    },
    {
      "cell_type": "markdown",
      "id": "e7918f7c",
      "metadata": {
        "id": "e7918f7c"
      },
      "source": [
        "- El conjunto tiene **`filas`** filas y **`vars_`** variables.  \n",
        "- No se observan filas totalmente vacías.  \n",
        "- Algunas columnas muestran tipos mixtos (e.g., números y strings en `TELEFONO`).  \n",
        "- La vista previa revela formatos inconsistentes (mayúsculas vs minúsculas) en nombres de establecimientos."
      ]
    },
    {
      "cell_type": "markdown",
      "id": "b34bd9bb",
      "metadata": {
        "id": "b34bd9bb"
      },
      "source": [
        "## 2. Variables que más operaciones de limpieza necesitarán\n",
        "\n",
        "A continuación calculamos cuántos valores nulos hay por variable y cuántos valores únicos tiene cada una.\n"
      ]
    },
    {
      "cell_type": "code",
      "execution_count": null,
      "id": "308ee5b0",
      "metadata": {
        "id": "308ee5b0",
        "outputId": "d258ff92-009e-420d-e071-041d64d512c2"
      },
      "outputs": [
        {
          "data": {
            "text/plain": [
              "TELEFONO     53\n",
              "DIRECTOR     33\n",
              "DIRECCION     9\n",
              "SECTOR        7\n",
              "PLAN          7\n",
              "JORNADA       7\n",
              "MODALIDAD     7\n",
              "STATUS        7\n",
              "AREA          7\n",
              "CODIGO        7\n",
              "dtype: int64"
            ]
          },
          "metadata": {},
          "output_type": "display_data"
        },
        {
          "data": {
            "text/plain": [
              "NIVEL              1\n",
              "STATUS             1\n",
              "MODALIDAD          2\n",
              "AREA               3\n",
              "SECTOR             4\n",
              "JORNADA            6\n",
              "PLAN              12\n",
              "DEPARTAMENTO      23\n",
              "DEPARTAMENTAL     26\n",
              "MUNICIPIO        343\n",
              "dtype: int64"
            ]
          },
          "metadata": {},
          "output_type": "display_data"
        }
      ],
      "source": [
        "# Conteo de valores nulos por variable\n",
        "null_counts = df.isnull().sum().sort_values(ascending=False)\n",
        "display(null_counts.head(10))\n",
        "\n",
        "# Conteo de valores únicos por variable\n",
        "unique_counts = df.nunique().sort_values()\n",
        "display(unique_counts.head(10))\n"
      ]
    },
    {
      "cell_type": "markdown",
      "id": "816cbb8c",
      "metadata": {
        "id": "816cbb8c"
      },
      "source": [
        "**Top 5 variables con más valores nulos**  \n",
        "1. `TELEFONO` – 53 nulos  \n",
        "2. `DIRECTOR` – 33 nulos  \n",
        "3. `DIRECCION` – 9 nulos  \n",
        "4. `SECTOR` – 7 nulos  \n",
        "5. `PLAN` – 7 nulos  \n",
        "\n",
        "**Otras variables a vigilar** (pocos valores únicos, posibles categorías mal codificadas):  \n",
        "- `NIVEL`, `STATUS`, `MODALIDAD`, `AREA`, …\n"
      ]
    }
  ],
  "metadata": {
    "kernelspec": {
      "display_name": "Python 3",
      "language": "python",
      "name": "python3"
    },
    "language_info": {
      "codemirror_mode": {
        "name": "ipython",
        "version": 3
      },
      "file_extension": ".py",
      "mimetype": "text/x-python",
      "name": "python",
      "nbconvert_exporter": "python",
      "pygments_lexer": "ipython3",
      "version": "3.11.5"
    },
    "colab": {
      "provenance": [],
      "include_colab_link": true
    }
  },
  "nbformat": 4,
  "nbformat_minor": 5
}