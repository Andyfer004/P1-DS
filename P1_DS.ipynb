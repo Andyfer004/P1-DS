{
  "cells": [
    {
      "cell_type": "markdown",
      "metadata": {
        "colab_type": "text",
        "id": "view-in-github"
      },
      "source": [
        "<a href=\"https://colab.research.google.com/github/Andyfer004/P1-DS/blob/main/P1_DS.ipynb\" target=\"_parent\"><img src=\"https://colab.research.google.com/assets/colab-badge.svg\" alt=\"Open In Colab\"/></a>"
      ]
    },
    {
      "cell_type": "markdown",
      "id": "73e51d84",
      "metadata": {
        "id": "73e51d84"
      },
      "source": [
        "# **Universidad del Valle de Guatemala**\n",
        "\n",
        "## **Facultad de Ingeniería**  \n",
        "### **Departamento de Ciencias de la Computación**\n",
        "\n",
        "\n",
        "## **Curso: Data Science**  \n",
        "### **Profesor: Luis Furlán**\n",
        "\n",
        "\n",
        "## **Proyecto 1 Data Science: Limpieza de datos**  \n",
        "### **Autores:**\n",
        "- **Andy Fuentes 22944**\n",
        "- **Davis Roldán 22672**\n",
        "- **Gabriel Paz 221087**\n"
      ]
    },
    {
      "cell_type": "code",
      "execution_count": 9,
      "id": "69bdc19a",
      "metadata": {
        "id": "69bdc19a",
        "outputId": "c0a02cfe-b412-491a-bf50-e08d1f9523a3"
      },
      "outputs": [
        {
          "name": "stdout",
          "output_type": "stream",
          "text": [
            "Filas: 6607\n",
            "Variables: 17\n"
          ]
        },
        {
          "data": {
            "text/html": [
              "<div>\n",
              "<style scoped>\n",
              "    .dataframe tbody tr th:only-of-type {\n",
              "        vertical-align: middle;\n",
              "    }\n",
              "\n",
              "    .dataframe tbody tr th {\n",
              "        vertical-align: top;\n",
              "    }\n",
              "\n",
              "    .dataframe thead th {\n",
              "        text-align: right;\n",
              "    }\n",
              "</style>\n",
              "<table border=\"1\" class=\"dataframe\">\n",
              "  <thead>\n",
              "    <tr style=\"text-align: right;\">\n",
              "      <th></th>\n",
              "      <th>CODIGO</th>\n",
              "      <th>DISTRITO</th>\n",
              "      <th>DEPARTAMENTO</th>\n",
              "      <th>MUNICIPIO</th>\n",
              "      <th>ESTABLECIMIENTO</th>\n",
              "      <th>DIRECCION</th>\n",
              "      <th>TELEFONO</th>\n",
              "      <th>SUPERVISOR</th>\n",
              "      <th>DIRECTOR</th>\n",
              "      <th>NIVEL</th>\n",
              "      <th>SECTOR</th>\n",
              "      <th>AREA</th>\n",
              "      <th>STATUS</th>\n",
              "      <th>MODALIDAD</th>\n",
              "      <th>JORNADA</th>\n",
              "      <th>PLAN</th>\n",
              "      <th>DEPARTAMENTAL</th>\n",
              "    </tr>\n",
              "  </thead>\n",
              "  <tbody>\n",
              "    <tr>\n",
              "      <th>0</th>\n",
              "      <td>16-01-0138-46</td>\n",
              "      <td>16-031</td>\n",
              "      <td>ALTA VERAPAZ</td>\n",
              "      <td>COBAN</td>\n",
              "      <td>COLEGIO COBAN</td>\n",
              "      <td>KM.2 SALIDA A SAN JUAN CHAMELCO ZONA 8</td>\n",
              "      <td>77945104</td>\n",
              "      <td>PATRICIO NAJARRO ASENCIO</td>\n",
              "      <td>GUSTAVO ADOLFO SIERRA POP</td>\n",
              "      <td>DIVERSIFICADO</td>\n",
              "      <td>PRIVADO</td>\n",
              "      <td>URBANA</td>\n",
              "      <td>ABIERTA</td>\n",
              "      <td>MONOLINGUE</td>\n",
              "      <td>MATUTINA</td>\n",
              "      <td>DIARIO(REGULAR)</td>\n",
              "      <td>ALTA VERAPAZ</td>\n",
              "    </tr>\n",
              "    <tr>\n",
              "      <th>1</th>\n",
              "      <td>16-01-0139-46</td>\n",
              "      <td>16-031</td>\n",
              "      <td>ALTA VERAPAZ</td>\n",
              "      <td>COBAN</td>\n",
              "      <td>COLEGIO PARTICULAR MIXTO VERAPAZ</td>\n",
              "      <td>KM 209.5 ENTRADA A LA CIUDAD</td>\n",
              "      <td>77367402</td>\n",
              "      <td>PATRICIO NAJARRO ASENCIO</td>\n",
              "      <td>GILMA DOLORES GUAY PAZ DE LEAL</td>\n",
              "      <td>DIVERSIFICADO</td>\n",
              "      <td>PRIVADO</td>\n",
              "      <td>URBANA</td>\n",
              "      <td>ABIERTA</td>\n",
              "      <td>MONOLINGUE</td>\n",
              "      <td>MATUTINA</td>\n",
              "      <td>DIARIO(REGULAR)</td>\n",
              "      <td>ALTA VERAPAZ</td>\n",
              "    </tr>\n",
              "    <tr>\n",
              "      <th>2</th>\n",
              "      <td>16-01-0140-46</td>\n",
              "      <td>16-031</td>\n",
              "      <td>ALTA VERAPAZ</td>\n",
              "      <td>COBAN</td>\n",
              "      <td>COLEGIO \"LA INMACULADA\"</td>\n",
              "      <td>7A. AVENIDA 11-109 ZONA 6</td>\n",
              "      <td>78232301</td>\n",
              "      <td>PATRICIO NAJARRO ASENCIO</td>\n",
              "      <td>VIRGINIA SOLANO SERRANO</td>\n",
              "      <td>DIVERSIFICADO</td>\n",
              "      <td>PRIVADO</td>\n",
              "      <td>URBANA</td>\n",
              "      <td>ABIERTA</td>\n",
              "      <td>MONOLINGUE</td>\n",
              "      <td>MATUTINA</td>\n",
              "      <td>DIARIO(REGULAR)</td>\n",
              "      <td>ALTA VERAPAZ</td>\n",
              "    </tr>\n",
              "    <tr>\n",
              "      <th>3</th>\n",
              "      <td>16-01-0141-46</td>\n",
              "      <td>16-005</td>\n",
              "      <td>ALTA VERAPAZ</td>\n",
              "      <td>COBAN</td>\n",
              "      <td>ESCUELA NACIONAL DE CIENCIAS COMERCIALES</td>\n",
              "      <td>2A CALLE 11-10 ZONA 2</td>\n",
              "      <td>79514215</td>\n",
              "      <td>NORA LILIANA FIGUEROA HERNÁNDEZ</td>\n",
              "      <td>HÉCTOR ROLANDO CHUN POOU</td>\n",
              "      <td>DIVERSIFICADO</td>\n",
              "      <td>OFICIAL</td>\n",
              "      <td>URBANA</td>\n",
              "      <td>ABIERTA</td>\n",
              "      <td>MONOLINGUE</td>\n",
              "      <td>MATUTINA</td>\n",
              "      <td>DIARIO(REGULAR)</td>\n",
              "      <td>ALTA VERAPAZ</td>\n",
              "    </tr>\n",
              "    <tr>\n",
              "      <th>4</th>\n",
              "      <td>16-01-0142-46</td>\n",
              "      <td>16-005</td>\n",
              "      <td>ALTA VERAPAZ</td>\n",
              "      <td>COBAN</td>\n",
              "      <td>INSTITUTO NORMAL MIXTO DEL NORTE 'EMILIO ROSAL...</td>\n",
              "      <td>3A AVE 6-23 ZONA 11</td>\n",
              "      <td>79521468</td>\n",
              "      <td>NORA LILIANA FIGUEROA HERNÁNDEZ</td>\n",
              "      <td>VICTOR HUGO DOMÍNGUEZ REYES</td>\n",
              "      <td>DIVERSIFICADO</td>\n",
              "      <td>OFICIAL</td>\n",
              "      <td>URBANA</td>\n",
              "      <td>ABIERTA</td>\n",
              "      <td>BILINGUE</td>\n",
              "      <td>VESPERTINA</td>\n",
              "      <td>DIARIO(REGULAR)</td>\n",
              "      <td>ALTA VERAPAZ</td>\n",
              "    </tr>\n",
              "  </tbody>\n",
              "</table>\n",
              "</div>"
            ],
            "text/plain": [
              "          CODIGO DISTRITO  DEPARTAMENTO MUNICIPIO  \\\n",
              "0  16-01-0138-46   16-031  ALTA VERAPAZ     COBAN   \n",
              "1  16-01-0139-46   16-031  ALTA VERAPAZ     COBAN   \n",
              "2  16-01-0140-46   16-031  ALTA VERAPAZ     COBAN   \n",
              "3  16-01-0141-46   16-005  ALTA VERAPAZ     COBAN   \n",
              "4  16-01-0142-46   16-005  ALTA VERAPAZ     COBAN   \n",
              "\n",
              "                                     ESTABLECIMIENTO  \\\n",
              "0                                      COLEGIO COBAN   \n",
              "1                   COLEGIO PARTICULAR MIXTO VERAPAZ   \n",
              "2                            COLEGIO \"LA INMACULADA\"   \n",
              "3           ESCUELA NACIONAL DE CIENCIAS COMERCIALES   \n",
              "4  INSTITUTO NORMAL MIXTO DEL NORTE 'EMILIO ROSAL...   \n",
              "\n",
              "                                DIRECCION  TELEFONO  \\\n",
              "0  KM.2 SALIDA A SAN JUAN CHAMELCO ZONA 8  77945104   \n",
              "1            KM 209.5 ENTRADA A LA CIUDAD  77367402   \n",
              "2               7A. AVENIDA 11-109 ZONA 6  78232301   \n",
              "3                   2A CALLE 11-10 ZONA 2  79514215   \n",
              "4                     3A AVE 6-23 ZONA 11  79521468   \n",
              "\n",
              "                        SUPERVISOR                        DIRECTOR  \\\n",
              "0         PATRICIO NAJARRO ASENCIO       GUSTAVO ADOLFO SIERRA POP   \n",
              "1         PATRICIO NAJARRO ASENCIO  GILMA DOLORES GUAY PAZ DE LEAL   \n",
              "2         PATRICIO NAJARRO ASENCIO         VIRGINIA SOLANO SERRANO   \n",
              "3  NORA LILIANA FIGUEROA HERNÁNDEZ        HÉCTOR ROLANDO CHUN POOU   \n",
              "4  NORA LILIANA FIGUEROA HERNÁNDEZ     VICTOR HUGO DOMÍNGUEZ REYES   \n",
              "\n",
              "           NIVEL   SECTOR    AREA   STATUS   MODALIDAD     JORNADA  \\\n",
              "0  DIVERSIFICADO  PRIVADO  URBANA  ABIERTA  MONOLINGUE    MATUTINA   \n",
              "1  DIVERSIFICADO  PRIVADO  URBANA  ABIERTA  MONOLINGUE    MATUTINA   \n",
              "2  DIVERSIFICADO  PRIVADO  URBANA  ABIERTA  MONOLINGUE    MATUTINA   \n",
              "3  DIVERSIFICADO  OFICIAL  URBANA  ABIERTA  MONOLINGUE    MATUTINA   \n",
              "4  DIVERSIFICADO  OFICIAL  URBANA  ABIERTA    BILINGUE  VESPERTINA   \n",
              "\n",
              "              PLAN DEPARTAMENTAL  \n",
              "0  DIARIO(REGULAR)  ALTA VERAPAZ  \n",
              "1  DIARIO(REGULAR)  ALTA VERAPAZ  \n",
              "2  DIARIO(REGULAR)  ALTA VERAPAZ  \n",
              "3  DIARIO(REGULAR)  ALTA VERAPAZ  \n",
              "4  DIARIO(REGULAR)  ALTA VERAPAZ  "
            ]
          },
          "metadata": {},
          "output_type": "display_data"
        }
      ],
      "source": [
        "# Cargar librerías y datos crudos\n",
        "import pandas as pd\n",
        "from sklearn.preprocessing import LabelEncoder\n",
        "import numpy as np\n",
        "\n",
        "df = pd.read_csv('dataset_institutions.csv')\n",
        "\n",
        "# Descripción del conjunto de datos crudos\n",
        "filas, vars_ = df.shape\n",
        "print(f\"Filas: {filas}\")\n",
        "print(f\"Variables: {vars_}\")\n",
        "\n",
        "# Vista previa\n",
        "display(df.head(5))"
      ]
    },
    {
      "cell_type": "markdown",
      "id": "e7918f7c",
      "metadata": {
        "id": "e7918f7c"
      },
      "source": [
        "- El conjunto tiene **`filas`** filas y **`vars_`** variables.  \n",
        "- No se observan filas totalmente vacías.  \n",
        "- Algunas columnas muestran tipos mixtos (e.g., números y strings en `TELEFONO`).  \n",
        "- La vista previa revela formatos inconsistentes (mayúsculas vs minúsculas) en nombres de establecimientos."
      ]
    },
    {
      "cell_type": "markdown",
      "id": "b34bd9bb",
      "metadata": {
        "id": "b34bd9bb"
      },
      "source": [
        "## 2. Variables que más operaciones de limpieza necesitarán\n",
        "\n",
        "A continuación calculamos cuántos valores nulos hay por variable y cuántos valores únicos tiene cada una.\n"
      ]
    },
    {
      "cell_type": "code",
      "execution_count": 3,
      "id": "308ee5b0",
      "metadata": {
        "id": "308ee5b0",
        "outputId": "d258ff92-009e-420d-e071-041d64d512c2"
      },
      "outputs": [
        {
          "data": {
            "text/plain": [
              "TELEFONO     53\n",
              "DIRECTOR     33\n",
              "DIRECCION     9\n",
              "SECTOR        7\n",
              "PLAN          7\n",
              "JORNADA       7\n",
              "MODALIDAD     7\n",
              "STATUS        7\n",
              "AREA          7\n",
              "CODIGO        7\n",
              "dtype: int64"
            ]
          },
          "metadata": {},
          "output_type": "display_data"
        },
        {
          "data": {
            "text/plain": [
              "NIVEL              1\n",
              "STATUS             1\n",
              "MODALIDAD          2\n",
              "AREA               3\n",
              "SECTOR             4\n",
              "JORNADA            6\n",
              "PLAN              12\n",
              "DEPARTAMENTO      23\n",
              "DEPARTAMENTAL     26\n",
              "MUNICIPIO        343\n",
              "dtype: int64"
            ]
          },
          "metadata": {},
          "output_type": "display_data"
        }
      ],
      "source": [
        "# Conteo de valores nulos por variable\n",
        "null_counts = df.isnull().sum().sort_values(ascending=False)\n",
        "display(null_counts.head(10))\n",
        "\n",
        "# Conteo de valores únicos por variable\n",
        "unique_counts = df.nunique().sort_values()\n",
        "display(unique_counts.head(10))\n"
      ]
    },
    {
      "cell_type": "markdown",
      "id": "816cbb8c",
      "metadata": {
        "id": "816cbb8c"
      },
      "source": [
        "**Top 5 variables con más valores nulos**  \n",
        "1. `TELEFONO` – 53 nulos  \n",
        "2. `DIRECTOR` – 33 nulos  \n",
        "3. `DIRECCION` – 9 nulos  \n",
        "4. `SECTOR` – 7 nulos  \n",
        "5. `PLAN` – 7 nulos  \n",
        "\n",
        "**Otras variables a vigilar** (pocos valores únicos, posibles categorías mal codificadas):  \n",
        "- `NIVEL`, `STATUS`, `MODALIDAD`, `AREA`, …\n"
      ]
    },
    {
      "cell_type": "markdown",
      "id": "fa7aba13",
      "metadata": {
        "id": "fa7aba13"
      },
      "source": [
        "## Estrategia de Limpieza de Datos\n",
        "\n",
        "### 1. Eliminación de espacios innecesarios\n",
        "Se eliminan los espacios en blanco al inicio y al final de los valores en todas las columnas para evitar problemas al comparar, agrupar o buscar datos.\n",
        "\n",
        "### 2. Normalización de texto\n",
        "Se convierten a mayúsculas las columnas categóricas como:\n",
        "- `DEPARTAMENTO`\n",
        "- `MUNICIPIO`\n",
        "- `ESTABLECIMIENTO`\n",
        "- `SUPERVISOR`\n",
        "- `DIRECTOR`\n",
        "- `NIVEL`\n",
        "- `SECTOR`\n",
        "- `AREA`\n",
        "- `STATUS`\n",
        "- `MODALIDAD`\n",
        "- `JORNADA`\n",
        "- `PLAN`\n",
        "- `DEPARTAMENTAL`\n",
        "\n",
        "Esto asegura consistencia y evita diferencias por mayúsculas/minúsculas.\n",
        "\n",
        "### 3. Eliminación de caracteres especiales\n",
        "Se eliminan caracteres como comillas simples y dobles en nombres de establecimientos y otras columnas para evitar errores en el procesamiento de texto.\n",
        "\n",
        "### 4. Validación y limpieza de teléfonos\n",
        "Se transforman los números de teléfono a cadenas que contengan únicamente dígitos (`0-9`), eliminando espacios, guiones u otros caracteres.\n",
        "\n",
        "### 5. Eliminación de duplicados\n",
        "Se eliminan registros repetidos para asegurar la integridad de los datos.\n",
        "\n",
        "### 6. Tratamiento de valores nulos\n",
        "Se reemplazan los valores faltantes por la palabra **\"DESCONOCIDO\"** para evitar errores en análisis posteriores.\n",
        "\n",
        "### 7. Creación de columnas derivadas\n",
        "Se generan nuevas columnas a partir de la columna `CODIGO`:\n",
        "- `CODIGO_DEPTO`: extrae el código del departamento.\n",
        "- `CODIGO_MUNI`: extrae el código del municipio.\n",
        "\n",
        "Esto permite una segmentación y análisis más detallados.\n",
        "\n",
        "### 8. Estandarización general\n",
        "Se asegura que todos los datos tengan un formato consistente, lo cual facilita futuras etapas de análisis y visualización.\n",
        "\n",
        "### 9. Detección y manejo de valores atípicos (outliers)\n",
        "Revisar columnas como TELEFONO para detectar valores fuera de rango (por ejemplo, teléfonos con más o menos de 8 dígitos).\n",
        "\n",
        "En campos categóricos como JORNADA o MODALIDAD, verificar si hay valores poco frecuentes o incorrectos.\n",
        "\n",
        "\n",
        "### 10. Codificación de variables\n",
        "Convertir variables categóricas en formato numérico o de etiqueta para facilitar análisis posteriores (ejemplo: SECTOR: PRIVADO → 1, OFICIAL → 0)."
      ]
    },
    {
      "cell_type": "markdown",
      "id": "643be02d",
      "metadata": {},
      "source": [
        "\n",
        "## DESARROLLO DE LIMPIEZA"
      ]
    },
    {
      "cell_type": "markdown",
      "id": "d260060a",
      "metadata": {},
      "source": [
        "## 1. Eliminación de espacios innecesarios\n"
      ]
    },
    {
      "cell_type": "code",
      "execution_count": null,
      "id": "81ec14d0",
      "metadata": {},
      "outputs": [],
      "source": [
        "df.columns = df.columns.str.strip()\n",
        "df = df.applymap(lambda x: x.strip() if isinstance(x, str) else x)"
      ]
    },
    {
      "cell_type": "markdown",
      "id": "52ef9141",
      "metadata": {},
      "source": [
        "## 2. Normalización de texto"
      ]
    },
    {
      "cell_type": "code",
      "execution_count": 14,
      "id": "c23ca382",
      "metadata": {},
      "outputs": [],
      "source": [
        "\n",
        "cols_to_upper = [\n",
        "    \"DEPARTAMENTO\", \"MUNICIPIO\", \"ESTABLECIMIENTO\", \"SUPERVISOR\", \"DIRECTOR\",\n",
        "    \"NIVEL\", \"SECTOR\", \"AREA\", \"STATUS\", \"MODALIDAD\", \"JORNADA\", \"PLAN\", \"DEPARTAMENTAL\"\n",
        "]\n",
        "df[cols_to_upper] = df[cols_to_upper].apply(lambda col: col.str.upper())"
      ]
    },
    {
      "cell_type": "markdown",
      "id": "1a52aba2",
      "metadata": {},
      "source": [
        "## # 3. Eliminación de caracteres especiales\n"
      ]
    },
    {
      "cell_type": "code",
      "execution_count": 15,
      "id": "5545edf4",
      "metadata": {},
      "outputs": [],
      "source": [
        "\n",
        "df = df.replace({r'\\\"': '', r\"\\'\": \"\"}, regex=True)"
      ]
    },
    {
      "cell_type": "markdown",
      "id": "4b393cb8",
      "metadata": {},
      "source": [
        "## 4. Validación y limpieza de teléfonos"
      ]
    },
    {
      "cell_type": "code",
      "execution_count": 16,
      "id": "64de8fcb",
      "metadata": {},
      "outputs": [],
      "source": [
        "df[\"TELEFONO\"] = df[\"TELEFONO\"].astype(str).str.replace(r'\\D', '', regex=True)"
      ]
    },
    {
      "cell_type": "markdown",
      "id": "bb25e9de",
      "metadata": {},
      "source": [
        "\n",
        "## 5. Detección y manejo de valores atípicos (outliers)\n",
        "### 5.1 Teléfonos inválidos (no tienen 8 dígitos o no son numéricos)\n"
      ]
    },
    {
      "cell_type": "code",
      "execution_count": 17,
      "id": "83eee9b4",
      "metadata": {},
      "outputs": [
        {
          "name": "stdout",
          "output_type": "stream",
          "text": [
            " Teléfonos inválidos detectados: 2582\n"
          ]
        }
      ],
      "source": [
        "df[\"TELEFONO_INVALIDO\"] = df[\"TELEFONO\"].apply(lambda x: len(x) != 8 or not x.isdigit())\n",
        "print(f\" Teléfonos inválidos detectados: {df['TELEFONO_INVALIDO'].sum()}\")"
      ]
    },
    {
      "cell_type": "markdown",
      "id": "fd550e2c",
      "metadata": {},
      "source": [
        "### 5.2 Outliers en columnas categóricas (valores poco frecuentes)"
      ]
    },
    {
      "cell_type": "code",
      "execution_count": 18,
      "id": "60e39597",
      "metadata": {},
      "outputs": [
        {
          "name": "stdout",
          "output_type": "stream",
          "text": [
            "⚠ Valores poco frecuentes detectados en 'SECTOR': ['DESCONOCIDO']\n",
            "⚠ Valores poco frecuentes detectados en 'AREA': ['DESCONOCIDO']\n",
            "⚠ Valores poco frecuentes detectados en 'STATUS': ['DESCONOCIDO']\n",
            "⚠ Valores poco frecuentes detectados en 'MODALIDAD': ['DESCONOCIDO']\n",
            "⚠ Valores poco frecuentes detectados en 'JORNADA': ['DESCONOCIDO']\n"
          ]
        }
      ],
      "source": [
        "categorical_columns = [\"SECTOR\", \"AREA\", \"STATUS\", \"MODALIDAD\", \"JORNADA\"]\n",
        "for col in categorical_columns:\n",
        "    value_counts = df[col].value_counts(normalize=True)\n",
        "    rare_values = value_counts[value_counts < 0.01].index  # Menos del 1% de frecuencia\n",
        "    if not rare_values.empty:\n",
        "        print(f\"⚠ Valores poco frecuentes detectados en '{col}': {list(rare_values)}\")\n",
        "        df[col] = df[col].replace(list(rare_values), \"DESCONOCIDO\")"
      ]
    },
    {
      "cell_type": "markdown",
      "id": "3797dd29",
      "metadata": {},
      "source": [
        "## 6. Eliminación de duplicados"
      ]
    },
    {
      "cell_type": "code",
      "execution_count": 19,
      "id": "cd3c2b08",
      "metadata": {},
      "outputs": [],
      "source": [
        "df = df.drop_duplicates()"
      ]
    },
    {
      "cell_type": "markdown",
      "id": "5ee7357c",
      "metadata": {},
      "source": [
        "## 7. Tratamiento de valores nulos y valores inválidos"
      ]
    },
    {
      "cell_type": "code",
      "execution_count": 20,
      "id": "814d038a",
      "metadata": {},
      "outputs": [],
      "source": [
        "df = df.fillna(\"DESCONOCIDO\")\n",
        "df.replace([\"SIN ESPECIFICAR\"], \"DESCONOCIDO\", inplace=True)"
      ]
    },
    {
      "cell_type": "markdown",
      "id": "b7d619bd",
      "metadata": {},
      "source": [
        "## 8. Creación de columnas derivadas"
      ]
    },
    {
      "cell_type": "code",
      "execution_count": 21,
      "id": "d0985c25",
      "metadata": {},
      "outputs": [],
      "source": [
        "df[\"CODIGO_DEPTO\"] = df[\"CODIGO\"].str.split(\"-\").str[0]\n",
        "df[\"CODIGO_MUNI\"] = df[\"CODIGO\"].str.split(\"-\").str[1]\n",
        "\n",
        "df[\"CODIGO_DEPTO\"] = pd.to_numeric(df[\"CODIGO_DEPTO\"], errors=\"coerce\").fillna(0).astype(int)\n",
        "df[\"CODIGO_MUNI\"] = pd.to_numeric(df[\"CODIGO_MUNI\"], errors=\"coerce\").fillna(0).astype(int)"
      ]
    },
    {
      "cell_type": "markdown",
      "id": "8a4ee06b",
      "metadata": {},
      "source": [
        "## 9. Codificación de variables categóricas"
      ]
    },
    {
      "cell_type": "code",
      "execution_count": 22,
      "id": "4c0364d3",
      "metadata": {},
      "outputs": [],
      "source": [
        "encoder = LabelEncoder()\n",
        "for col in categorical_columns:\n",
        "    if df[col].notna().any():\n",
        "        df[col + \"_ENCODED\"] = encoder.fit_transform(df[col].astype(str))"
      ]
    },
    {
      "cell_type": "markdown",
      "id": "fccd7611",
      "metadata": {},
      "source": [
        "## 10. Normalización adicional de texto"
      ]
    },
    {
      "cell_type": "code",
      "execution_count": 23,
      "id": "bbb0f44b",
      "metadata": {},
      "outputs": [],
      "source": [
        "text_columns = [\"ESTABLECIMIENTO\", \"DIRECCION\", \"SUPERVISOR\", \"DIRECTOR\"]\n",
        "for col in text_columns:\n",
        "    df[col] = df[col].str.replace(r'\\s+', ' ', regex=True)"
      ]
    },
    {
      "cell_type": "markdown",
      "id": "a3f9972e",
      "metadata": {},
      "source": [
        "## 11. Reordenar columnas"
      ]
    },
    {
      "cell_type": "code",
      "execution_count": 24,
      "id": "b38587a7",
      "metadata": {},
      "outputs": [],
      "source": [
        "ordered_columns = [\n",
        "    \"CODIGO\", \"CODIGO_DEPTO\", \"CODIGO_MUNI\", \"DISTRITO\", \"DEPARTAMENTO\", \"MUNICIPIO\",\n",
        "    \"ESTABLECIMIENTO\", \"DIRECCION\", \"TELEFONO\", \"TELEFONO_INVALIDO\",\n",
        "    \"SUPERVISOR\", \"DIRECTOR\", \"NIVEL\", \"SECTOR\", \"SECTOR_ENCODED\",\n",
        "    \"AREA\", \"AREA_ENCODED\", \"STATUS\", \"STATUS_ENCODED\",\n",
        "    \"MODALIDAD\", \"MODALIDAD_ENCODED\", \"JORNADA\", \"JORNADA_ENCODED\",\n",
        "    \"PLAN\", \"DEPARTAMENTAL\"\n",
        "]\n",
        "df = df[[col for col in ordered_columns if col in df.columns]]"
      ]
    },
    {
      "cell_type": "markdown",
      "id": "8105ebc6",
      "metadata": {},
      "source": [
        "# 12. Reporte de valores nulos finales"
      ]
    },
    {
      "cell_type": "code",
      "execution_count": 25,
      "id": "8f118284",
      "metadata": {},
      "outputs": [
        {
          "name": "stdout",
          "output_type": "stream",
          "text": [
            "\n",
            " Valores nulos después de limpieza:\n",
            "CODIGO               0\n",
            "CODIGO_DEPTO         0\n",
            "CODIGO_MUNI          0\n",
            "DISTRITO             0\n",
            "DEPARTAMENTO         0\n",
            "MUNICIPIO            0\n",
            "ESTABLECIMIENTO      0\n",
            "DIRECCION            0\n",
            "TELEFONO             0\n",
            "TELEFONO_INVALIDO    0\n",
            "SUPERVISOR           0\n",
            "DIRECTOR             0\n",
            "NIVEL                0\n",
            "SECTOR               0\n",
            "SECTOR_ENCODED       0\n",
            "AREA                 0\n",
            "AREA_ENCODED         0\n",
            "STATUS               0\n",
            "STATUS_ENCODED       0\n",
            "MODALIDAD            0\n",
            "MODALIDAD_ENCODED    0\n",
            "JORNADA              0\n",
            "JORNADA_ENCODED      0\n",
            "PLAN                 0\n",
            "DEPARTAMENTAL        0\n",
            "dtype: int64\n"
          ]
        }
      ],
      "source": [
        "print(\"\\n Valores nulos después de limpieza:\")\n",
        "print(df.isnull().sum())"
      ]
    },
    {
      "cell_type": "markdown",
      "id": "3c518469",
      "metadata": {},
      "source": [
        "## Guardar dataset limpio\n"
      ]
    },
    {
      "cell_type": "code",
      "execution_count": 26,
      "id": "6e352db7",
      "metadata": {},
      "outputs": [
        {
          "name": "stdout",
          "output_type": "stream",
          "text": [
            "\n",
            " Limpieza completada. Archivo guardado como P1_DS_limpio.csv\n"
          ]
        }
      ],
      "source": [
        "\n",
        "df.to_csv(\"P1_DS_limpio.csv\", index=False)\n",
        "\n",
        "print(\"\\n Limpieza completada. Archivo guardado como P1_DS_limpio.csv\")\n"
      ]
    }
  ],
  "metadata": {
    "colab": {
      "include_colab_link": true,
      "provenance": []
    },
    "kernelspec": {
      "display_name": "env",
      "language": "python",
      "name": "python3"
    },
    "language_info": {
      "codemirror_mode": {
        "name": "ipython",
        "version": 3
      },
      "file_extension": ".py",
      "mimetype": "text/x-python",
      "name": "python",
      "nbconvert_exporter": "python",
      "pygments_lexer": "ipython3",
      "version": "3.13.2"
    }
  },
  "nbformat": 4,
  "nbformat_minor": 5
}
